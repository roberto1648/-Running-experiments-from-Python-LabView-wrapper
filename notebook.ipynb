{
 "cells": [
  {
   "cell_type": "markdown",
   "metadata": {},
   "source": [
    "# Running experiments from Python: LabView wrapper"
   ]
  },
  {
   "cell_type": "markdown",
   "metadata": {},
   "source": [
    "There are many existing instrument drivers written in the LabView graphical programming language. To take advantage of this (from a Python programmer's point of view), the simple wrapper here allows setting up, running, and retrieving the outputs of LabView vis from Python code running on a Windows computer."
   ]
  },
  {
   "cell_type": "markdown",
   "metadata": {},
   "source": [
    "## Example usage:"
   ]
  },
  {
   "cell_type": "markdown",
   "metadata": {},
   "source": [
    "### steps:\n",
    "- Find the vi's absolute path.\n",
    "- Construct a dictionary with the required inputs.\n",
    "- Put together a list with the names of the desired outputs (can pick as many or as few as needed).\n",
    "- Provide the above information to lv_wrapper.runvi().\n",
    "\n",
    "The output is a dictionary in which the item names correspond to the output_names list and the item values are python objects."
   ]
  },
  {
   "cell_type": "code",
   "execution_count": 1,
   "metadata": {},
   "outputs": [
    {
     "name": "stdout",
     "output_type": "stream",
     "text": [
      "x+y:\n",
      "2.0\n",
      "\n",
      "A x B:\n",
      "(5.0, 14.0, 23.0)\n",
      "\n",
      "concatenated string:\n",
      "Python is great\r\n",
      "yes, indeed.\n",
      "\n"
     ]
    }
   ],
   "source": [
    "import lv_wrapper\n",
    "import numpy as np\n",
    "import os\n",
    "\n",
    "vi_path = os.path.abspath(\"example.vi\")\n",
    "inputs = {\n",
    "    'x': 1,\n",
    "    'y': 1,\n",
    "    's': \"Python is great\",\n",
    "    'A': np.arange(9).reshape((3, 3)),\n",
    "    'B': np.arange(3),\n",
    "}\n",
    "output_names = ['x+y', 'concatenated string', 'A x B']\n",
    "\n",
    "# run the vi passing the inputs and a list of\n",
    "# desired output names\n",
    "results_dictionary = lv_wrapper.runvi(\n",
    "    vi_path = vi_path,\n",
    "    inputs = inputs,\n",
    "    output_names = output_names,\n",
    "    wait_for_completion = True,\n",
    ")\n",
    "\n",
    "# use the vi outputs:\n",
    "for name, value in results_dictionary.items():\n",
    "    print \"{}:\".format(name)\n",
    "    print value\n",
    "    print"
   ]
  },
  {
   "cell_type": "markdown",
   "metadata": {},
   "source": [
    "## example.vi front panel before running"
   ]
  },
  {
   "cell_type": "markdown",
   "metadata": {},
   "source": [
    "<img src=\"before.png\">"
   ]
  },
  {
   "cell_type": "markdown",
   "metadata": {},
   "source": [
    "## example.vi after running"
   ]
  },
  {
   "cell_type": "markdown",
   "metadata": {},
   "source": [
    "<img src=\"after.png\">"
   ]
  },
  {
   "cell_type": "code",
   "execution_count": null,
   "metadata": {},
   "outputs": [],
   "source": []
  }
 ],
 "metadata": {
  "kernelspec": {
   "display_name": "Python 2",
   "language": "python",
   "name": "python2"
  },
  "language_info": {
   "codemirror_mode": {
    "name": "ipython",
    "version": 2
   },
   "file_extension": ".py",
   "mimetype": "text/x-python",
   "name": "python",
   "nbconvert_exporter": "python",
   "pygments_lexer": "ipython2",
   "version": "2.7.12"
  }
 },
 "nbformat": 4,
 "nbformat_minor": 1
}
